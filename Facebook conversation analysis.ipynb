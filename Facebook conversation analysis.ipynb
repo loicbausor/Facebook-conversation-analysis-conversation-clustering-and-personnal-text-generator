{
 "cells": [
  {
   "cell_type": "markdown",
   "metadata": {},
   "source": [
    "# Facebook conversation analysis, conversation clustering and personnal text generator"
   ]
  },
  {
   "cell_type": "markdown",
   "metadata": {},
   "source": [
    "The goal of this project was to analyse my facebook conversation and try to extract some information from it.\n",
    "\n",
    "This notebook is splited in different parts :\n",
    "\n",
    "- Non text indicators : In this first part i try to analyse quickly the number of calls, pictures, links shared with my correspondants (it is not really interesting in my case but it can be useful for someone)\n",
    "- Tf-Idf wordclouds for each conversations : I tried to design personalized  word clouds  for each conversations\n",
    "- Conversation embedding and clustering : Based on the text of each conversation, I use clustering technics to create groups and see if it feets with my different affinities\n",
    "- Personnal word embedding (with W2V)\n",
    "- Text generation (language model) based on my conversations (using an RNN/LSTM algorithm) \n",
    "\n",
    "(I also  tried to do a chatbot but it failed).\n",
    "\n",
    "It is not completly finished for the moment but it gives an idea of what it is possible to do with this data.\n",
    "\n",
    "For reasons of confidentiality each conversor names has been anonymized and the data is not available. I encourage you to download this Notebook and try it with your own conversations. The wordclouds and the clustering was pretty accurate for me and can be interesting to gain some insights about my conversations.\n",
    "\n",
    "This notebook is adapted for french conversations. If you want to use it for any other language you might make some changes. "
   ]
  },
  {
   "cell_type": "markdown",
   "metadata": {},
   "source": [
    "## To download your own facebook conversation data "
   ]
  },
  {
   "cell_type": "markdown",
   "metadata": {},
   "source": [
    "Here is the tuto I followed to download my Facebook conversation : https://www.zapptales.com/en/download-facebook-messenger-chat-history-how-to/\n",
    "(I picked JSON format instead of HTML one).\n",
    "\n",
    "\n",
    "Then I went to the archive in messages -> inbox and pick the conversations (json files) I wanted to analyse, rename them, and put them in a file appart named \"conversations\"."
   ]
  },
  {
   "cell_type": "markdown",
   "metadata": {},
   "source": [
    "## Non text indicators"
   ]
  },
  {
   "cell_type": "markdown",
   "metadata": {},
   "source": [
    "### Data preparation for the overall analysis \n",
    "\n",
    "\n",
    "For this part we just want to get the all to get the key indcators for of our conversations. I am not interested in the text for itself and thus we will not preprerocess it."
   ]
  },
  {
   "cell_type": "code",
   "execution_count": 1,
   "metadata": {},
   "outputs": [],
   "source": [
    "import os \n",
    "import pandas as pd\n",
    "import numpy as np\n",
    "import matplotlib.pyplot as plt \n",
    "import seaborn as sns\n",
    "import json\n",
    "from ftfy import fix_text\n",
    "import datetime\n",
    "import unicodedata\n",
    "np.random.seed(133)\n",
    "%matplotlib inline"
   ]
  },
  {
   "cell_type": "code",
   "execution_count": 2,
   "metadata": {},
   "outputs": [],
   "source": [
    "#Get all the JSON files name in the conversations folder\n",
    "\n",
    "path = os.getcwd() + '\\conversations'\n",
    "convs = [f for f in os.listdir(path) if os.path.isfile(os.path.join(path, f))]\n",
    "overall_data = pd.DataFrame()\n",
    "\n",
    "\n",
    "for file in convs:\n",
    "    with open(os.path.join(path, file)) as f:\n",
    "        data = json.load(f)\n",
    "    # Creates an identifier (title) for all the message of the conversation  if you want a  non anonimized  use name = data[\"title\"] \n",
    "    name = file.replace(\".json\",\"\")\n",
    "    a = data[\"messages\"]\n",
    "    \n",
    "    #Stores messages in a temporary dataframe\n",
    "    df = pd.DataFrame(a)\n",
    "    #Fixes the encoding problems\n",
    "    df['sender_name'] =df['sender_name'].apply(fix_text)\n",
    "    df['content'] =df['content'].astype(str).apply(fix_text)\n",
    "    #Creates a name for the conversation\n",
    "    df['conv_name'] = name\n",
    "    overall_data = pd.concat([overall_data,df],axis=0)"
   ]
  },
  {
   "cell_type": "code",
   "execution_count": 3,
   "metadata": {},
   "outputs": [
    {
     "data": {
      "text/html": [
       "<div>\n",
       "<style scoped>\n",
       "    .dataframe tbody tr th:only-of-type {\n",
       "        vertical-align: middle;\n",
       "    }\n",
       "\n",
       "    .dataframe tbody tr th {\n",
       "        vertical-align: top;\n",
       "    }\n",
       "\n",
       "    .dataframe thead th {\n",
       "        text-align: right;\n",
       "    }\n",
       "</style>\n",
       "<table border=\"1\" class=\"dataframe\">\n",
       "  <thead>\n",
       "    <tr style=\"text-align: right;\">\n",
       "      <th></th>\n",
       "      <th>sender_name</th>\n",
       "      <th>timestamp_ms</th>\n",
       "      <th>content</th>\n",
       "      <th>type</th>\n",
       "      <th>reactions</th>\n",
       "      <th>photos</th>\n",
       "      <th>sticker</th>\n",
       "      <th>gifs</th>\n",
       "      <th>conv_name</th>\n",
       "      <th>call_duration</th>\n",
       "      <th>missed</th>\n",
       "      <th>share</th>\n",
       "      <th>files</th>\n",
       "      <th>videos</th>\n",
       "      <th>audio_files</th>\n",
       "      <th>users</th>\n",
       "    </tr>\n",
       "  </thead>\n",
       "  <tbody>\n",
       "    <tr>\n",
       "      <th>7387</th>\n",
       "      <td>Loïc</td>\n",
       "      <td>1566386484911</td>\n",
       "      <td>?</td>\n",
       "      <td>Generic</td>\n",
       "      <td>NaN</td>\n",
       "      <td>NaN</td>\n",
       "      <td>NaN</td>\n",
       "      <td>NaN</td>\n",
       "      <td>AL</td>\n",
       "      <td>NaN</td>\n",
       "      <td>NaN</td>\n",
       "      <td>NaN</td>\n",
       "      <td>NaN</td>\n",
       "      <td>NaN</td>\n",
       "      <td>NaN</td>\n",
       "      <td>NaN</td>\n",
       "    </tr>\n",
       "    <tr>\n",
       "      <th>1556</th>\n",
       "      <td>Loïc</td>\n",
       "      <td>1435403754669</td>\n",
       "      <td>Coucou !</td>\n",
       "      <td>Generic</td>\n",
       "      <td>NaN</td>\n",
       "      <td>NaN</td>\n",
       "      <td>NaN</td>\n",
       "      <td>NaN</td>\n",
       "      <td>BM</td>\n",
       "      <td>NaN</td>\n",
       "      <td>NaN</td>\n",
       "      <td>NaN</td>\n",
       "      <td>NaN</td>\n",
       "      <td>NaN</td>\n",
       "      <td>NaN</td>\n",
       "      <td>NaN</td>\n",
       "    </tr>\n",
       "    <tr>\n",
       "      <th>1475</th>\n",
       "      <td>Loïc</td>\n",
       "      <td>1565300275719</td>\n",
       "      <td>Enfin  on était sur la bonne route en tt cas</td>\n",
       "      <td>Generic</td>\n",
       "      <td>NaN</td>\n",
       "      <td>NaN</td>\n",
       "      <td>NaN</td>\n",
       "      <td>NaN</td>\n",
       "      <td>LP</td>\n",
       "      <td>NaN</td>\n",
       "      <td>NaN</td>\n",
       "      <td>NaN</td>\n",
       "      <td>NaN</td>\n",
       "      <td>NaN</td>\n",
       "      <td>NaN</td>\n",
       "      <td>NaN</td>\n",
       "    </tr>\n",
       "  </tbody>\n",
       "</table>\n",
       "</div>"
      ],
      "text/plain": [
       "     sender_name   timestamp_ms                                       content  \\\n",
       "7387        Loïc  1566386484911                                             ?   \n",
       "1556        Loïc  1435403754669                                      Coucou !   \n",
       "1475        Loïc  1565300275719  Enfin  on était sur la bonne route en tt cas   \n",
       "\n",
       "         type reactions photos sticker gifs conv_name  call_duration missed  \\\n",
       "7387  Generic       NaN    NaN     NaN  NaN        AL            NaN    NaN   \n",
       "1556  Generic       NaN    NaN     NaN  NaN        BM            NaN    NaN   \n",
       "1475  Generic       NaN    NaN     NaN  NaN        LP            NaN    NaN   \n",
       "\n",
       "     share files videos audio_files users  \n",
       "7387   NaN   NaN    NaN         NaN   NaN  \n",
       "1556   NaN   NaN    NaN         NaN   NaN  \n",
       "1475   NaN   NaN    NaN         NaN   NaN  "
      ]
     },
     "execution_count": 3,
     "metadata": {},
     "output_type": "execute_result"
    }
   ],
   "source": [
    "# Dataframe head \n",
    "overall_data[overall_data.sender_name == 'Loïc'].drop('ip',axis = 1).sample(frac=1).iloc[0:3]"
   ]
  },
  {
   "cell_type": "code",
   "execution_count": 4,
   "metadata": {},
   "outputs": [],
   "source": [
    "#Convert ms into seconds\n",
    "overall_data[\"timestamp\"] = overall_data[\"timestamp_ms\"]/1000.0\n",
    "#Convert timestamp into DateTime\n",
    "overall_data[\"datetime\"] = overall_data[\"timestamp\"].apply(datetime.datetime.fromtimestamp)\n",
    "#Number of words of each messages\n",
    "overall_data[\"nb_words\"] = overall_data[\"content\"].str.split().str.len()\n",
    "#Days, Month, Years\n",
    "overall_data['day_of_week'] = overall_data['datetime'].dt.day_name()\n",
    "overall_data['month'] = overall_data['datetime'].dt.month_name()\n",
    "overall_data['date'] = overall_data['datetime'].dt.date"
   ]
  },
  {
   "cell_type": "markdown",
   "metadata": {},
   "source": [
    "#### Messages according to time"
   ]
  },
  {
   "cell_type": "code",
   "execution_count": 5,
   "metadata": {},
   "outputs": [],
   "source": [
    "day = overall_data.groupby('day_of_week').agg({'content' : \"count\"}).reset_index()\n",
    "month = overall_data.groupby('month').agg({'content' : \"count\"}).reset_index()\n",
    "year = overall_data.groupby('date').agg({'content' : \"count\"}).reset_index()\n",
    "\n",
    "\n"
   ]
  },
  {
   "cell_type": "code",
   "execution_count": 6,
   "metadata": {},
   "outputs": [
    {
     "data": {
      "text/plain": [
       "Text(0.5, 1.0, 'Messages sent by days')"
      ]
     },
     "execution_count": 6,
     "metadata": {},
     "output_type": "execute_result"
    },
    {
     "data": {
      "image/png": "[encoded data removed]",
      "text/plain": [
       "<Figure size 720x400 with 1 Axes>"
      ]
     },
     "metadata": {},
     "output_type": "display_data"
    }
   ],
   "source": [
    "fig=plt.figure(figsize=(9, 5), dpi= 80, facecolor='w', edgecolor='k')\n",
    "cats = [ 'Monday', 'Tuesday', 'Wednesday', 'Thursday', 'Friday', 'Saturday', 'Sunday']\n",
    "cat_type = pd.CategoricalDtype(categories=cats, ordered=True)\n",
    "day['day_of_week'] = day['day_of_week'].astype(cat_type)\n",
    "ax = sns.barplot(x=\"day_of_week\", y=\"content\", data=day)\n",
    "plt.ylabel(\"Amount of messages\")\n",
    "\n",
    "plt.title(\"Messages sent by days\")"
   ]
  },
  {
   "cell_type": "code",
   "execution_count": 7,
   "metadata": {},
   "outputs": [
    {
     "data": {
      "image/png": "[encoded data removed]",
      "text/plain": [
       "<Figure size 720x400 with 1 Axes>"
      ]
     },
     "metadata": {},
     "output_type": "display_data"
    }
   ],
   "source": [
    "fig=plt.figure(figsize=(9, 5), dpi= 80, facecolor='w', edgecolor='k')\n",
    "\n",
    "cats = ['January', 'February', 'March', 'April', 'May', 'June', 'July',\n",
    "          'August', 'September', 'October', 'November', 'December']\n",
    "cat_type = pd.CategoricalDtype(categories=cats, ordered=True)\n",
    "month['month'] = month['month'].astype(cat_type)\n",
    "ax = sns.barplot(x=\"month\", y=\"content\", data=month)\n",
    "plt.title(\"Messages sent by months\")\n",
    "plt.ylabel(\"Amount of messages\")\n",
    "\n",
    "plt.tight_layout()"
   ]
  },
  {
   "cell_type": "code",
   "execution_count": 8,
   "metadata": {},
   "outputs": [
    {
     "data": {
      "image/png": "[encoded data removed]",
      "text/plain": [
       "<Figure size 720x400 with 1 Axes>"
      ]
     },
     "metadata": {},
     "output_type": "display_data"
    }
   ],
   "source": [
    "fig=plt.figure(figsize=(9, 5), dpi= 80, facecolor='w', edgecolor='k')\n",
    "\n",
    "ax = sns.lineplot(x=\"date\", y=\"content\", data=year)\n",
    "plt.title(\"Messages sent over the years\")\n",
    "plt.ylabel(\"Amount of messages\")\n",
    "\n",
    "plt.tight_layout()"
   ]
  },
  {
   "cell_type": "markdown",
   "metadata": {},
   "source": [
    "#### Other non text indicators"
   ]
  },
  {
   "cell_type": "code",
   "execution_count": 9,
   "metadata": {},
   "outputs": [
    {
     "name": "stdout",
     "output_type": "stream",
     "text": [
      "2983 reactions shared.\n",
      "2079 photos shared.\n",
      "427 sticker shared.\n",
      "40 minutes of call shared.\n",
      "207 files shared.\n",
      "62 videos shared.\n",
      "65 audio_files shared.\n"
     ]
    }
   ],
   "source": [
    "cols = ['reactions','photos','sticker','conv_name',\n",
    "        'call_duration','files','videos','audio_files']\n",
    "tmp = {'reactions' : \"count\", 'photos' : \"count\",\n",
    "      \"sticker\" : \"count\", 'call_duration' : 'sum',\n",
    "      'files' : \"count\", 'videos' : 'count','audio_files' : 'count'}\n",
    "indicators = overall_data[cols].agg(tmp).reset_index()\n",
    "for elt in np.array(indicators):\n",
    "    if elt[0] == 'call_duration':\n",
    "        print(str(round(elt[1]/(1000*60))) + \" minutes of call shared.\")\n",
    "    else:\n",
    "        print(str(round(elt[1])) +\" \"+ str(elt[0]) + \" \" +\"shared.\" )"
   ]
  },
  {
   "cell_type": "markdown",
   "metadata": {},
   "source": [
    "## Individual view and wordclouds"
   ]
  },
  {
   "cell_type": "markdown",
   "metadata": {},
   "source": [
    "### Data preparation for the wordclouds"
   ]
  },
  {
   "cell_type": "markdown",
   "metadata": {},
   "source": [
    "To create my wordclouds I use a TF IDF method. In order to reduce the dimensionnality of the text I :\n",
    "- Lowercase my conversations\n",
    "- Remove some french stopwords\n",
    "- Do some regex cleaning\n",
    "- Lemmatize the conversation (https://en.wikipedia.org/wiki/Lemmatisation)\n",
    "\n",
    "For the lemmatisation I use the package treetagger wrapper adapted to Python. You can download it following following this procedure : https://www.cis.uni-muenchen.de/~schmid/tools/TreeTagger/ and then pip install the tree tagger wrapper python package.\n",
    "\n",
    "####  Autocorrect : \n",
    "I hesitated to use \"simple\" autocorrects (based on Levenstein distance for example) but i felt like it would delete some ways of speaking of me or my friends so  i let the conversations with the potential typos."
   ]
  },
  {
   "cell_type": "code",
   "execution_count": 10,
   "metadata": {},
   "outputs": [
    {
     "name": "stderr",
     "output_type": "stream",
     "text": [
      "C:\\ProgramData\\Anaconda3\\lib\\site-packages\\treetaggerwrapper.py:740: FutureWarning: Possible nested set at position 8\n",
      "  re.IGNORECASE | re.VERBOSE)\n",
      "C:\\ProgramData\\Anaconda3\\lib\\site-packages\\treetaggerwrapper.py:2044: FutureWarning: Possible nested set at position 152\n",
      "  re.VERBOSE | re.IGNORECASE)\n",
      "C:\\ProgramData\\Anaconda3\\lib\\site-packages\\treetaggerwrapper.py:2067: FutureWarning: Possible nested set at position 409\n",
      "  UrlMatch_re = re.compile(UrlMatch_expression, re.VERBOSE | re.IGNORECASE)\n",
      "C:\\ProgramData\\Anaconda3\\lib\\site-packages\\treetaggerwrapper.py:2079: FutureWarning: Possible nested set at position 192\n",
      "  EmailMatch_re = re.compile(EmailMatch_expression, re.VERBOSE | re.IGNORECASE)\n"
     ]
    }
   ],
   "source": [
    "import json\n",
    "import ftfy\n",
    "import pandas as pd\n",
    "import matplotlib.pyplot as plt\n",
    "from wordcloud import WordCloud, STOPWORDS, ImageColorGenerator\n",
    "import re\n",
    "from nltk.corpus import stopwords\n",
    "import json\n",
    "import numpy as np\n",
    "import string\n",
    "import treetaggerwrapper\n",
    "import pickle\n",
    "import time \n",
    "\n",
    "\n",
    "path = os.getcwd() + '\\conversations'\n",
    "convs = [f for f in os.listdir(path) if os.path.isfile(os.path.join(path, f))]\n",
    "conv_data = pd.DataFrame(columns = ['Name','Conv'])\n",
    "\n",
    "#Initializes the tagger (change the TAGDIR argument by your treetagger wrapper instalation folder)\n",
    "tagger = treetaggerwrapper.TreeTagger(TAGLANG='fr',\n",
    "                                      TAGDIR = 'C:/Users/x/Desktop/f/tree-tagger-windows-3.2.1/TreeTagger')\n",
    "\n",
    "#Gets the stopword list for french texts\n",
    "stop = stopwords.words('french')\n",
    "\n",
    "\n",
    "\n",
    "def Lemm(x,tagger):\n",
    "    \"\"\"Take a french string an returns it lemmatized form\"\"\"\n",
    "    lst=['DET:POS',\"DET:ART\",\"PRP\",\"PRO:DEM\",\"KON\",\"PUN\",\"PRO:PER\",\"SENT\"]\n",
    "    \n",
    "    #Ensure that our string is not empty\n",
    "    if x == \"\" or x == \" \":\n",
    "        return([])\n",
    "    else:\n",
    "        #Ensure that treetagger returns an array\n",
    "        try:\n",
    "            tag = np.array(treetaggerwrapper.make_tags(tagger.tag_text(x)))\n",
    "        except:\n",
    "            return(np.nan)\n",
    "        #Ensure that the array is in the good shape\n",
    "        try: \n",
    "            tag = tag[np.isin(tag[:,1],lst,invert = True)]\n",
    "            return(tag[:,2])\n",
    "        except:\n",
    "            return(np.nan)\n",
    "\n",
    "# Get the emoji patterns\n",
    "emoji_pattern = re.compile(\"[\"\n",
    "        u\"\\U0001F600-\\U0001F64F\"  # emoticons\n",
    "        u\"\\U0001F300-\\U0001F5FF\"  # symbols & pictographs\n",
    "        u\"\\U0001F680-\\U0001F6FF\"  # transport & map symbols\n",
    "        u\"\\U0001F1E0-\\U0001F1FF\"  # flags (iOS)\n",
    "                           \"]+\", flags=re.UNICODE)\n",
    "\n",
    "def del_emoji(s):\n",
    "    \"\"\"Takes a string and delete its emojis\"\"\"\n",
    "    return(emoji_pattern.sub(r'', s))\n"
   ]
  },
  {
   "cell_type": "code",
   "execution_count": 11,
   "metadata": {},
   "outputs": [
    {
     "name": "stdout",
     "output_type": "stream",
     "text": [
      "10 files treated. Time elapsed : 87 sec.\n",
      "20 files treated. Time elapsed : 109 sec.\n",
      "30 files treated. Time elapsed : 143 sec.\n",
      "40 files treated. Time elapsed : 175 sec.\n",
      "Finished in 190 sec.\n"
     ]
    }
   ],
   "source": [
    "s = time.time()\n",
    "i = 1\n",
    "for file in convs:\n",
    "    with open(os.path.join(path, file)) as f:\n",
    "        data = json.load(f)\n",
    "    a = data[\"messages\"]\n",
    "    \n",
    "    for elt in a:\n",
    "        for key in elt.keys():\n",
    "            if type(elt[key]) == str:\n",
    "                #Removes https\\link\n",
    "                elt[key] = re.sub(r'^https?:\\/\\/.*[\\r\\n]*', '', elt[key], flags=re.MULTILINE)\n",
    "                #Removes http\\link\n",
    "                elt[key] = re.sub(r'http\\S+', '', elt[key], flags=re.MULTILINE)\n",
    "                #Removes www.link\n",
    "                elt[key] = re.sub(r'www.\\S+', '', elt[key], flags=re.MULTILINE)\n",
    "                #Removes word@word\n",
    "                elt[key] = re.sub(r'\\S+@\\S+', '', elt[key], flags=re.MULTILINE)\n",
    "                #Removes link.com\n",
    "                elt[key] = re.sub(r'\\S+\\.com', '', elt[key], flags=re.MULTILINE)\n",
    "                elt[key] = re.sub(r'[ ,.]', ' ', elt[key], flags=re.MULTILINE)\n",
    "                #Removes entire digits\n",
    "                elt[key] = re.sub(r'\\b\\d+\\b', '', elt[key], flags=re.MULTILINE)\n",
    "                #elt[key] = re.sub(r'[^\\w\\s]','',elt[key])\n",
    "                elt[key] = str(ftfy.fix_text(elt[key])).lower()\n",
    "                elt[key] = \" \".join([word for word in elt[key].split() if word not in stop])\n",
    "                #elt[key] = elt[key].translate(str.maketrans('','',string.punctuation))\n",
    "                #Removes the thing like 'user has sended a gif' (in french ofc)\n",
    "                elt[key] = re.sub(r'.*a envoyé+\\s(gif|pièce|message|photo|vidéo|sticker).*', ' ',elt[key], flags=re.MULTILINE)\n",
    "                #Removes smileys (like : :) :/ ;$$ x) )\n",
    "                elt[key] = re.sub(r'(:|;|x)(\\)|\\(|\\$|/|3|o|\\@|\\'|s|p)+',' ',elt[key],flags = re.MULTILINE)\n",
    "                #Removes pronoun before apostropheses (ça s'arrange --> ça arrange)\n",
    "                elt[key] = re.sub(r'\\S+\\'',' ',elt[key],flags = re.MULTILINE)\n",
    "                #Removes /\\!?$.=\n",
    "                elt[key] = re.sub(r'(\\:|\\/|\\\\|\\?|\\§|\\!|\\.|\\<|\\>|\\(|\\)|\\=)',' ',elt[key],flags = re.MULTILINE)\n",
    "                #Replace multiple spaces by one space\n",
    "                elt[key] = re.sub(r'\\s\\s+',' ',elt[key],flags = re.MULTILINE)\n",
    "                #Replaces hahahahaha by haha or hehehe by hehe \n",
    "                elt[key] = re.sub(r'[ah|ha]{3,}','haha',elt[key],flags = re.MULTILINE)\n",
    "                elt[key] = re.sub(r'[éh|hé]{3,}','hehe',elt[key],flags = re.MULTILINE)\n",
    "                elt[key] = re.sub(r'[eh|he]{3,}','eheh',elt[key],flags = re.MULTILINE)\n",
    "                elt[key] = re.sub(r' [ih|hi]{3,}','hihi',elt[key],flags = re.MULTILINE)\n",
    "                #Deletes emoji\n",
    "                elt[key] = del_emoji(elt[key])\n",
    "                \n",
    "                #Deletes game scores\n",
    "                if \"a record\" in elt[key]:\n",
    "                    elt[key] = \"\"\n",
    "                #Normalize the data\n",
    "                elt[key] = unicodedata.normalize('NFKD', elt[key]).encode('ascii','ignore').decode(\"utf-8\")\n",
    "\n",
    "    #Store in a temporary dataframe\n",
    "    df = pd.DataFrame(a)\n",
    "    #Dropna\n",
    "    df = df.dropna(subset = ['content'])\n",
    "    #Removes call\n",
    "    df = df[df['type'] != \"call\"]\n",
    "    # The messages are ordered to the last one from the first first one, we invert it\n",
    "    df = df.reindex(index=df.index[::-1])\n",
    "    # We create a Lemmatized text column\n",
    "    df['Lemm'] = df.content.apply(Lemm,args = (tagger,))\n",
    "    # DropNas in the lemmatized column\n",
    "    df = df.dropna(axis=0,subset=['Lemm'])\n",
    "    # Transforms the column into a log text (splitted in list)\n",
    "    conv = \" \".join([element for list_ in df['Lemm'] for element in list_])\n",
    "    tmp = {\"Name\" : file.replace('.json',''),\"Conv\" : conv}\n",
    "    tmp = pd.DataFrame(tmp,index=[0])\n",
    "    conv_data = pd.concat([conv_data,tmp],axis = 0,ignore_index=True)\n",
    "    if i % 10 == 0:\n",
    "        e = time.time()\n",
    "        print(str(i) + \" files treated. Time elapsed : \" + str(round(e - s)) + \" sec.\")\n",
    "    i +=1\n",
    "e = time.time()\n",
    "print('Finished in ' + str(round(e - s)) + \" sec.\")"
   ]
  },
  {
   "cell_type": "code",
   "execution_count": 12,
   "metadata": {},
   "outputs": [
    {
     "data": {
      "text/html": [
       "<div>\n",
       "<style scoped>\n",
       "    .dataframe tbody tr th:only-of-type {\n",
       "        vertical-align: middle;\n",
       "    }\n",
       "\n",
       "    .dataframe tbody tr th {\n",
       "        vertical-align: top;\n",
       "    }\n",
       "\n",
       "    .dataframe thead th {\n",
       "        text-align: right;\n",
       "    }\n",
       "</style>\n",
       "<table border=\"1\" class=\"dataframe\">\n",
       "  <thead>\n",
       "    <tr style=\"text-align: right;\">\n",
       "      <th></th>\n",
       "      <th>Name</th>\n",
       "      <th>Conv</th>\n",
       "    </tr>\n",
       "  </thead>\n",
       "  <tbody>\n",
       "    <tr>\n",
       "      <th>45</th>\n",
       "      <td>SC</td>\n",
       "      <td>bonjour loic ca aller salut samantha ca aller ...</td>\n",
       "    </tr>\n",
       "    <tr>\n",
       "      <th>16</th>\n",
       "      <td>GF</td>\n",
       "      <td>salut loic reunion investissement boursier pro...</td>\n",
       "    </tr>\n",
       "  </tbody>\n",
       "</table>\n",
       "</div>"
      ],
      "text/plain": [
       "   Name                                               Conv\n",
       "45   SC  bonjour loic ca aller salut samantha ca aller ...\n",
       "16   GF  salut loic reunion investissement boursier pro..."
      ]
     },
     "execution_count": 12,
     "metadata": {},
     "output_type": "execute_result"
    }
   ],
   "source": [
    "#Dataframe head\n",
    "conv_data.sample(frac=1).iloc[:2]"
   ]
  },
  {
   "cell_type": "markdown",
   "metadata": {},
   "source": [
    "#### Wordcloud (tf-idf) based"
   ]
  },
  {
   "cell_type": "markdown",
   "metadata": {},
   "source": [
    "To select the words which are meaning in each conversation I use a tf idf (term frequency-inverse document frequency)  technic. The wordcloud choose the words with the highest tf idf score of the conversation.\n",
    "\n",
    "To be short : a word in a conversation is important if this has a strong occurence in the conversation but also if it does not occurs a lot in the other conversations treated. The TF-IDF score for a word in a conversation will increase with those two criteria. You can find more informations (and the maths behind it) here: https://fr.wikipedia.org/wiki/TF-IDF."
   ]
  },
  {
   "cell_type": "code",
   "execution_count": 13,
   "metadata": {},
   "outputs": [
    {
     "name": "stdout",
     "output_type": "stream",
     "text": [
      "Unique words in all the conversations : 28600\n",
      "Unique words in the PB conversation : 1165\n"
     ]
    }
   ],
   "source": [
    "import pandas as pd\n",
    "import numpy as np \n",
    "import pickle\n",
    "from sklearn.feature_extraction.text import TfidfTransformer, TfidfVectorizer,CountVectorizer\n",
    "from wordcloud import WordCloud, STOPWORDS, ImageColorGenerator\n",
    "import matplotlib.pyplot as plt\n",
    "\n",
    "#Choose the conversation name you want to analyze\n",
    "Name = \"PB\"\n",
    "#Choose the number of topwords\n",
    "topwords = 100\n",
    "docs = conv_data['Conv']\n",
    "doc2 = conv_data[conv_data.Name == Name]['Conv']\n",
    "# Counts the number of unique words \n",
    "all_doc = \" \".join(list(docs))\n",
    "all_doc = all_doc.split(' ')\n",
    "total_voca = np.unique(all_doc)\n",
    "doc2 = \" \".join(list(doc2)).split(' ')\n",
    "total_voca_conv = np.unique(doc2)\n",
    "print(\"Unique words in all the conversations : \" + str(total_voca.shape[0]))\n",
    "print(\"Unique words in the \" + Name +  \" conversation : \" + str(total_voca_conv.shape[0]))\n"
   ]
  },
  {
   "cell_type": "markdown",
   "metadata": {},
   "source": [
    "#### Transform the conversations into a TF IDF matrix"
   ]
  },
  {
   "cell_type": "code",
   "execution_count": 14,
   "metadata": {},
   "outputs": [
    {
     "data": {
      "text/plain": [
       "TfidfTransformer(norm='l2', smooth_idf=True, sublinear_tf=False, use_idf=True)"
      ]
     },
     "execution_count": 14,
     "metadata": {},
     "output_type": "execute_result"
    }
   ],
   "source": [
    "#Vectorization en matrice de tf idf \n",
    "#Counteur \n",
    "cv=CountVectorizer(max_df=0.5)#Prend les 72% des mots les plus occurents\n",
    "word_count_vector=cv.fit_transform(docs)\n",
    "feature_names=cv.get_feature_names()\n",
    "\n",
    "#TfIdfVectorizer\n",
    "tfidf_transformer=TfidfTransformer(smooth_idf=True,use_idf=True)\n",
    "tfidf_transformer.fit(word_count_vector)"
   ]
  },
  {
   "cell_type": "code",
   "execution_count": 15,
   "metadata": {},
   "outputs": [
    {
     "data": {
      "image/png": "[encoded data removed]",
      "text/plain": [
       "<Figure size 432x288 with 1 Axes>"
      ]
     },
     "metadata": {
      "needs_background": "light"
     },
     "output_type": "display_data"
    }
   ],
   "source": [
    "# Extraction des mots les plus importants\n",
    "def sort_coo(coo_matrix):\n",
    "    \"\"\"Prend les deux listes (index de voca et tf-idf) et la trie par ordre croissant\"\"\"\n",
    "    tuples = zip(coo_matrix.col, coo_matrix.data) #Join index et valeur\n",
    "    return sorted(tuples, key=lambda x: (x[1], x[0]), reverse=True) #Trie les valeurs\n",
    "\n",
    "tf_idf_vector=tfidf_transformer.transform(\n",
    "        cv.transform(list(conv_data[conv_data.Name == Name]['Conv'])))\n",
    "\n",
    "#sort the tf-idf vectors by descending order of scores\n",
    "def extract_topn_from_vector(feature_names, sorted_items, topn=10):\n",
    "    \"\"\"Sort le top n des tf idf à partir d'une table triée\"\"\"\n",
    "    \n",
    "    sorted_items = sorted_items[:topn]\n",
    " \n",
    "    score_vals = []\n",
    "    feature_vals = []\n",
    "    \n",
    "\n",
    "    for idx, score in sorted_items:\n",
    "        \n",
    "        score_vals.append(round(score, 3))\n",
    "        feature_vals.append(feature_names[idx])\n",
    " \n",
    "    results= {}\n",
    "    for idx in range(len(feature_vals)):\n",
    "        results[feature_vals[idx]]=score_vals[idx]\n",
    "    \n",
    "    return results\n",
    "\n",
    "sorted_items=sort_coo(tf_idf_vector.tocoo())\n",
    "keywords=extract_topn_from_vector(feature_names,sorted_items,topwords)\n",
    "text = \" \".join(keywords.keys())\n",
    "\n",
    "\n",
    "# Genarates the word cloud\n",
    "\n",
    "wordcloud = WordCloud(max_font_size=50, max_words=topwords, background_color=\"white\").generate(text)\n",
    "plt.figure()\n",
    "plt.imshow(wordcloud, interpolation=\"bilinear\")\n",
    "plt.axis(\"off\")\n",
    "plt.title(\"Wordcloud for the conversation with \" + Name)\n",
    "plt.show()\n"
   ]
  },
  {
   "cell_type": "markdown",
   "metadata": {},
   "source": [
    "This is the wordcloud of the conversation with a college friend. We mainly talk about common friends, machine learning and courses. The words outputed by this WordCloud represents well this conversation IMO."
   ]
  },
  {
   "cell_type": "markdown",
   "metadata": {},
   "source": [
    "### Conversation clustering "
   ]
  },
  {
   "cell_type": "markdown",
   "metadata": {},
   "source": [
    "In this part I look to create a vector representation of my conversation in order to do some clustering on it."
   ]
  },
  {
   "cell_type": "markdown",
   "metadata": {},
   "source": [
    "#### Conversation \"embedding\" : Doc2Vec or TF IDF vectors ?\n",
    "\n",
    "Doc2vec is a technic of text embedding which can be seen as an extension of word2vec. The idea is to add to the CBOW version of word2vec an hot encoded vector which represents the document id. During the learning phase the algorithm learns an embeded form of the document. It exists also another version which consists in predicting sampled words of the document with only the document id.\n",
    "\n",
    "\n",
    "In an other hand we can just take the tf-idf vectors of each documents to embed them.\n",
    "\n",
    "The problem with doc2vec  is that it needs a lot of documents to create robust embeddings. Here I have only 40 conversations to input to the algorithm and, to have tested doc2vec with several hyper parameters, it fails to learn similarities with my conversations (they had no sense for me). So I decided to keep the tf idf vector form of my documents for the clustering.\n",
    "\n",
    "####  Clustering technic  : \n",
    "\n",
    "For the clustyering I deciced to use a hierachichal ascending clustering technic. I use a ward method to choose the cluster/datapoints distance. I use a simple euclidean distance between the vectors, honestly I did not try any other ones because the result was pretty satisfying for my conversations. After some tries I choosed to truncate the results when the distance was superior to 1.5. It can vary according to the distance measure, the method of linkage, and the data you treat. Feel free to change the parameters. "
   ]
  },
  {
   "cell_type": "code",
   "execution_count": 16,
   "metadata": {},
   "outputs": [],
   "source": [
    "def fancy_dendrogram(linkage,*args, **kwargs):\n",
    "    max_d = kwargs.pop('max_d', None)\n",
    "    if max_d and 'color_threshold' not in kwargs:\n",
    "        kwargs['color_threshold'] = max_d\n",
    "    annotate_above = kwargs.pop('annotate_above', 0)\n",
    "\n",
    "    ddata = shc.dendrogram(linkage,*args, **kwargs)\n",
    "\n",
    "    if not kwargs.get('no_plot', False):\n",
    "        plt.title('Conversations Dendogram')\n",
    "        plt.xlabel('Conversation (anonymized) names')\n",
    "        plt.ylabel('distance')\n",
    "        for i, d, c in zip(ddata['icoord'], ddata['dcoord'], ddata['color_list']):\n",
    "            x = 0.5 * sum(i[1:3])\n",
    "            y = d[1]\n",
    "            if y > annotate_above:\n",
    "                plt.plot(x, y, 'o', c=c)\n",
    "                plt.annotate(\"%.3g\" % y, (x, y), xytext=(0, -5),\n",
    "                            textcoords='offset points',\n",
    "                            va='top', ha='center')\n",
    "        if max_d:\n",
    "            plt.axhline(y=max_d, c='k')\n",
    "    return ddata"
   ]
  },
  {
   "cell_type": "code",
   "execution_count": 17,
   "metadata": {},
   "outputs": [
    {
     "data": {
      "image/png": "[encoded data removed]",
      "text/plain": [
       "<Figure size 720x504 with 1 Axes>"
      ]
     },
     "metadata": {
      "needs_background": "light"
     },
     "output_type": "display_data"
    }
   ],
   "source": [
    "######## Clustering\n",
    "import scipy.cluster.hierarchy as shc\n",
    "from scipy.cluster import hierarchy\n",
    "import matplotlib as mpl\n",
    "\n",
    "data =  pd.DataFrame(tfidf_transformer.transform(\n",
    "        cv.transform(list(conv_data['Conv']))).toarray(),index = conv_data['Name'])\n",
    "plt.figure(figsize=(10, 7))\n",
    "\n",
    "linkage = shc.linkage(data, method='ward')\n",
    "\n",
    "fancy_dendrogram(\n",
    "    linkage,\n",
    "    labels=conv_data['Name'].tolist() ,\n",
    "    max_d=1.5  # plot a horizontal cut-off line\n",
    ")\n",
    "plt.show()\n",
    "\n"
   ]
  },
  {
   "cell_type": "markdown",
   "metadata": {},
   "source": [
    "This dendogram represents pretty well my affinities for my different conversations. For example the green group represent my college friends that I'm really close to, the red one the college friends that I'm less close to, the azur one are my friends from another place that I live etc."
   ]
  },
  {
   "cell_type": "markdown",
   "metadata": {},
   "source": [
    "#### Dimension reduction : PCA or TSNE ?\n",
    "\n",
    "PCA is a dimension technic which has for objective to create recursivly axis which preserves the most of the total variance of the data. \n",
    "\n",
    "TSNE is another dimension reduction technic (often used for text data) which have for objective to create low dimensionnal space which respects the probability distribution of the original large dimensionnal space. TSNE algorithm wil try to respects the distances of each points from the original space to the reduced one.\n",
    "(To really learn about it : \n",
    "- https://en.wikipedia.org/wiki/T-distributed_stochastic_neighbor_embedding\n",
    "- https://www.youtube.com/watch?v=NEaUSP4YerM)\n",
    "\n",
    "\n",
    "After some tries (and some hyperparemeters tuning) TSNE failed to give me a good representation of my conversations. PCA was much \"accurate\" even if the two first axis does not explain a lot of the total variance. So I fitted my data on the PCA algorithm "
   ]
  },
  {
   "cell_type": "code",
   "execution_count": 18,
   "metadata": {},
   "outputs": [],
   "source": [
    "from sklearn.cluster import AgglomerativeClustering\n",
    "ac2 = AgglomerativeClustering(n_clusters = 7) \n",
    "\n",
    "c = ac2.fit_predict(data) \n"
   ]
  },
  {
   "cell_type": "code",
   "execution_count": 19,
   "metadata": {},
   "outputs": [
    {
     "data": {
      "text/plain": [
       "Text(0.5, 1, 'Conversation representation')"
      ]
     },
     "execution_count": 19,
     "metadata": {},
     "output_type": "execute_result"
    },
    {
     "data": {
      "text/plain": [
       "<Figure size 1152x720 with 0 Axes>"
      ]
     },
     "metadata": {},
     "output_type": "display_data"
    },
    {
     "data": {
      "image/png": "[encoded data removed]",
      "text/plain": [
       "<Figure size 402.375x360 with 1 Axes>"
      ]
     },
     "metadata": {
      "needs_background": "light"
     },
     "output_type": "display_data"
    }
   ],
   "source": [
    "#from sklearn.manifold import TSNE\n",
    "from sklearn.decomposition import PCA\n",
    "import matplotlib.pyplot as plt\n",
    "import seaborn as sns\n",
    "\n",
    "#tsne = TSNE(n_components=2, verbose=1, perplexity=40, n_iter=3000)\n",
    "#tsne_results = tsne.fit_transform(data)\n",
    "pca = PCA(n_components=10)\n",
    "pca_result = pca.fit_transform(data)\n",
    "\n",
    "\n",
    "data['pca-one'] = pca_result[:,0]\n",
    "data['pca-two'] = pca_result[:,1] \n",
    "\n",
    "data['cluster'] = c\n",
    "\n",
    "#data['tsne-2d-one'] = tsne_results[:,0]\n",
    "#data['tsne-2d-two'] = tsne_results[:,1]\n",
    "plt.figure(figsize=(16,10))\n",
    "# basic plot\n",
    "p1=sns.lmplot(data=data, x='pca-one', y='pca-two', fit_reg=False,hue = 'cluster')\n",
    "ax = p1.axes[0,0] \n",
    "# add annotations one by one with a loop\n",
    "for line in range(0,data.shape[0]):\n",
    "     ax.text(data['pca-one'][line], data['pca-two'][line], data.index[line], horizontalalignment='left', size='small', color='black')\n",
    "\n",
    "plt.title(\"Conversation representation\")\n"
   ]
  },
  {
   "cell_type": "markdown",
   "metadata": {},
   "source": [
    "### Word embeding using word2vec"
   ]
  },
  {
   "cell_type": "markdown",
   "metadata": {},
   "source": [
    "In this section I use word2vec to create a unique conversation embedding. Word2vec is word embedding algorithm. It is basically a small neural network trying  to predict a target word of a sentence from some contexts surrounding words  (CBOW version) or to predict some contexts words  based on a single word in the sentence. If you are not familiar to it, this video explains very well the algorithm and the mathematics behind ().\n",
    "\n",
    "I tried W2V algorithm with different hyparemeters but I was not able to get good results for my conversations (ie it failed the analogies that was meaningfull to me like  friends closeness). However you can find the code here and try to fine tune it for yours. If it works it could be interesting to do some dataviz on it."
   ]
  },
  {
   "cell_type": "markdown",
   "metadata": {},
   "source": [
    "#### Package import \n"
   ]
  },
  {
   "cell_type": "code",
   "execution_count": 20,
   "metadata": {},
   "outputs": [],
   "source": [
    "import pandas as pd\n",
    "import numpy as np\n",
    "import matplotlib.pyplot as plt\n",
    "import seaborn as sns\n",
    "import pickle \n",
    "import time\n",
    "import pickle\n",
    "import multiprocessing\n",
    "from gensim.models import Word2Vec"
   ]
  },
  {
   "cell_type": "markdown",
   "metadata": {},
   "source": [
    "#### Data preparation\n",
    "\n",
    "For word embedding, it seemed important to have the message level of my conversations and not only a big list of conversations. Thus I re extract my conversations json to create an appropriate dataframe. This time I : \n",
    "- Remove some regex (not exactly the as before)\n",
    "- Do not remove stopwords (skipgram model handles pretty well frequent words)\n",
    "- Do not lemmatize it\n",
    "- Remove punctuation and some special characters\n",
    "- Concatenate the messages which are from the same sender without any other senders between and which close in timestamp (to transforms things like : [\"Hey\", \"have you read this book ?\" ] to [\"Hey have you read this book ?\" ] )\n"
   ]
  },
  {
   "cell_type": "code",
   "execution_count": 21,
   "metadata": {},
   "outputs": [],
   "source": [
    "\n",
    "\n",
    "\n",
    "\n",
    "def concat_message(df):\n",
    "    \"\"\"Concat the messages which are from the same sender without any other senders between and which close in timestamp\"\"\"\n",
    "    i = 0\n",
    "    data = pd.DataFrame(columns = [\"sender_name\",\"timestamp_ms\",\"content\"])\n",
    "    while i < df.index.shape[0]:\n",
    "        sender = df['sender_name'][i]\n",
    "        msg =  df[\"content\"].loc[i]\n",
    "        tt = df[\"timestamp_ms\"].loc[i]\n",
    "        tmp = True\n",
    "        j = 1\n",
    "\n",
    "        while tmp:\n",
    "            if i + j <df.index.shape[0]:\n",
    "                if df['sender_name'].loc[i+j] == sender:\n",
    "                    if df[\"timestamp_ms\"].loc[i+j] < 5 * 60 * 1000 + tt:\n",
    "                        msg += \" \" +  df[\"content\"].loc[i + j]\n",
    "                        tt = df[\"timestamp_ms\"].loc[i+j]\n",
    "                        j += 1\n",
    "                    else:\n",
    "                        tmp = False\n",
    "                else:\n",
    "                    tmp = False\n",
    "            else:\n",
    "                tmp = False\n",
    "        i +=j\n",
    "        dic = {\"sender_name\":[sender],\"timestamp_ms\" : [tt],\"content\": [msg]}\n",
    "        dic = pd.DataFrame(dic)\n",
    "        data = pd.concat([data,dic],axis = 0,ignore_index=True)\n",
    "    return(data)\n",
    "\n",
    "def repl(m):\n",
    "    \"\"\"Transforms a string to space + string + space\"\"\"\n",
    "    return \" {} \".format(m.group())            \n",
    "                "
   ]
  },
  {
   "cell_type": "code",
   "execution_count": 22,
   "metadata": {},
   "outputs": [
    {
     "name": "stdout",
     "output_type": "stream",
     "text": [
      "10 files treated. Time elapsed : 117 sec.\n",
      "20 files treated. Time elapsed : 139 sec.\n",
      "30 files treated. Time elapsed : 164 sec.\n",
      "40 files treated. Time elapsed : 196 sec.\n",
      "Finished in 213 sec.\n"
     ]
    }
   ],
   "source": [
    "s = time.time()\n",
    "i = 1\n",
    "\n",
    "w2v_data = pd.DataFrame(columns = [\"sender_name\",\"timestamp_ms\",\"content\"])\n",
    "for file in convs:\n",
    "    with open(os.path.join(path, file)) as f:\n",
    "        data = json.load(f)\n",
    "    a = data[\"messages\"]\n",
    "    \n",
    "    for elt in a:   \n",
    "        for key in elt.keys():\n",
    "            \n",
    "            if key == 'content':\n",
    "                #Removes https\\link\n",
    "                elt[key] = re.sub(r'^https?:\\/\\/.*[\\r\\n]*', '', elt[key], flags=re.MULTILINE)\n",
    "                #Removes http\\link\n",
    "                elt[key] = re.sub(r'http\\S+', '', elt[key], flags=re.MULTILINE)\n",
    "                #Removes www.link\n",
    "                elt[key] = re.sub(r'www.\\S+', '', elt[key], flags=re.MULTILINE)\n",
    "                #Removes word@word\n",
    "                elt[key] = re.sub(r'\\S+@\\S+', '', elt[key], flags=re.MULTILINE)\n",
    "                #Removes link.com\n",
    "                elt[key] = re.sub(r'\\S+\\.com', '', elt[key], flags=re.MULTILINE)\n",
    "                elt[key] = re.sub(r'[ ,.]', ' ', elt[key], flags=re.MULTILINE)\n",
    "                #Removes entire digits\n",
    "                elt[key] = re.sub(r'\\b\\d+\\b', '', elt[key], flags=re.MULTILINE)\n",
    "                elt[key] = str(ftfy.fix_text(elt[key])).lower()\n",
    "                \n",
    "                #Removes smileys (like : :) :/ ;$$)\n",
    "                elt[key] = re.sub(r'(:|;)(\\)|\\(|\\$|/|3|\\@|\\'|s|p)+',' ',elt[key],flags = re.MULTILINE)\n",
    "                #Removes  apostropheses (ça s'arrange --> ça s arrange)\n",
    "                elt[key] = re.sub(r'\\'',' ',elt[key],flags = re.MULTILINE)\n",
    "                #Removes /\\$()=\n",
    "                elt[key] = re.sub(r'(\\/|\\\\|\\§|\\(|\\)|\\=)',' ',elt[key],flags = re.MULTILINE)\n",
    "                \n",
    "                #Replaces hahahahaha by haha or hehehe by hehe \n",
    "                elt[key] = re.sub(r'[ah|ha]{3,}','haha',elt[key],flags = re.MULTILINE)\n",
    "                elt[key] = re.sub(r'[éh|hé]{3,}','hehe',elt[key],flags = re.MULTILINE)\n",
    "                elt[key] = re.sub(r'[eh|he]{3,}','eheh',elt[key],flags = re.MULTILINE)\n",
    "                elt[key] = re.sub(r' [ih|hi]{3,}','hihi',elt[key],flags = re.MULTILINE)\n",
    "                #Replace punctuation by the same character + spaces\n",
    "                pattern = re.compile(r'(\\.|\\?|\\!)')\n",
    "                elt[key] = re.sub(pattern, repl, elt[key])\n",
    "                #Replace multiple spaces by one space\n",
    "                elt[key] = re.sub(r'\\s\\s+',' ',elt[key],flags = re.MULTILINE)\n",
    "                elt[key] = del_emoji(elt[key])\n",
    "                #DELETES EMOJI\n",
    "                elt[key] = del_emoji(elt[key])\n",
    "\n",
    "                #Deletes game scores\n",
    "                if \"a record\" in elt[key]:\n",
    "                    elt[key] = \"\"\n",
    "                #Normalize the data\n",
    "                elt[key] = unicodedata.normalize('NFKD', elt[key]).encode('ascii','ignore').decode(\"utf-8\")\n",
    "\n",
    "    #Store in a temporary dataframe\n",
    "    df = pd.DataFrame(a)\n",
    "    #Dropna\n",
    "    df = df.dropna(subset = ['content'])\n",
    "    #Removes calls, photos, stickers,gif,files,videos,audio files \n",
    "    df = df[df['type'] == \"Generic\"]\n",
    "    \n",
    "    # The messages are ordered to the last one from the first first one, we invert it\n",
    "    df = df.reindex(index=df.index[::-1]).reset_index()\n",
    "    \n",
    "    df = df[[\"sender_name\",\"timestamp_ms\",\"content\"]]\n",
    "    #Concatenates the messages\n",
    "    df =concat_message(df)\n",
    "    w2v_data = pd.concat([w2v_data,df],axis = 0,ignore_index=True)\n",
    "    if i % 10 == 0:\n",
    "        e = time.time()\n",
    "        print(str(i) + \" files treated. Time elapsed : \" + str(round(e - s)) + \" sec.\")\n",
    "    i +=1\n",
    "w2v_data.content = w2v_data.content.astype(str).apply(lambda x: x.split())\n",
    "\n",
    "e = time.time()\n",
    "print('Finished in ' + str(round(e - s)) + \" sec.\")"
   ]
  },
  {
   "cell_type": "code",
   "execution_count": 23,
   "metadata": {},
   "outputs": [],
   "source": [
    "w2vdata = w2v_data.content\n",
    " "
   ]
  },
  {
   "cell_type": "code",
   "execution_count": 24,
   "metadata": {},
   "outputs": [],
   "source": [
    "\n",
    "#Initialize W2V model\n",
    "\n",
    "EMBEDDING_DIM = 300\n",
    "w2v_model = Word2Vec(min_count=10,#if the occurence is < to this threshold then ignore\n",
    "                     window=2,#window of words to predict (skipgram case)\n",
    "                     size=EMBEDDING_DIM,#dim of the embeded vector\n",
    "                     sample=1e-5, #threshold at which we under sample the words\n",
    "                     alpha=0.05, #learning rate\n",
    "                     min_alpha=0.0007, # min learning rate which we will cap\n",
    "                     negative=30,# nb of subsample in the negative words (neg sub sampling)\n",
    "                     workers=-1,\n",
    "                     sg = 1#Skipgram model\n",
    "                     )\n",
    "t = time.time()\n",
    "\n",
    "\n",
    "#Initialize vocab\n",
    "w2v_model.build_vocab(w2vdata, progress_per=10000)\n",
    "\n",
    "\n",
    "#Train the model\n",
    "t = time.time()\n",
    "\n",
    "w2v_model.train(w2vdata, total_examples=w2v_model.corpus_count, epochs=20, report_delay=1)\n",
    "\n",
    "\n",
    "w2v_model.init_sims(replace=True)\n",
    "\n"
   ]
  },
  {
   "cell_type": "code",
   "execution_count": 108,
   "metadata": {},
   "outputs": [
    {
     "name": "stderr",
     "output_type": "stream",
     "text": [
      "C:\\ProgramData\\Anaconda3\\lib\\site-packages\\ipykernel_launcher.py:1: DeprecationWarning: Call to deprecated `most_similar` (Method will be removed in 4.0.0, use self.wv.most_similar() instead).\n",
      "  \"\"\"Entry point for launching an IPython kernel.\n"
     ]
    },
    {
     "data": {
      "text/plain": [
       "[('tlse', 0.1976611614227295),\n",
       " ('parfois', 0.18022608757019043),\n",
       " ('deco', 0.17332279682159424),\n",
       " ('concours', 0.1705390214920044)]"
      ]
     },
     "execution_count": 108,
     "metadata": {},
     "output_type": "execute_result"
    }
   ],
   "source": [
    "w2v_model.most_similar(positive = [\"statistiques\"])[:4]"
   ]
  },
  {
   "cell_type": "markdown",
   "metadata": {},
   "source": [
    "As I told, I did not go any further on it because the embedding failed to outputs the analogies I wanted to see."
   ]
  },
  {
   "cell_type": "markdown",
   "metadata": {},
   "source": [
    "### Text generation"
   ]
  },
  {
   "cell_type": "markdown",
   "metadata": {},
   "source": [
    "In this part I use my message to create a text generator which should write like I do (thanks to my message data). To do so I use an RNN with LSTM cells. It basically creates a language model based on my sentences. Most of the implementation code comes from this Notebook that i modified a bit: https://www.kaggle.com/tannergi/text-generation-using-an-lstm-in-keras.\n",
    "\n",
    "I am currently training this implementation on google colab (because of the gpus). I'll further complete this last part.\n",
    "\n",
    "TODO : Improve the impementation (sos and eos tokens, try different architectures ...)\n",
    "\n",
    "####  Word level or character level model ?\n",
    "\n",
    "I have written/modified code for the two versions but I think character level can lead to better results in this special case for two reasons. The first one is that even if a word level language level is more accurate most of the time, it is more costly to train and needs more data. The second one is that there is a lot of typos in my conversations that I can't correct with an auto correct without deleting some of my ways of speaking.\n",
    " "
   ]
  },
  {
   "cell_type": "markdown",
   "metadata": {},
   "source": [
    "#### Package import"
   ]
  },
  {
   "cell_type": "code",
   "execution_count": 26,
   "metadata": {},
   "outputs": [
    {
     "name": "stderr",
     "output_type": "stream",
     "text": [
      "Using TensorFlow backend.\n",
      "C:\\ProgramData\\Anaconda3\\lib\\site-packages\\tensorflow\\python\\framework\\dtypes.py:516: FutureWarning: Passing (type, 1) or '1type' as a synonym of type is deprecated; in a future version of numpy, it will be understood as (type, (1,)) / '(1,)type'.\n",
      "  _np_qint8 = np.dtype([(\"qint8\", np.int8, 1)])\n",
      "C:\\ProgramData\\Anaconda3\\lib\\site-packages\\tensorflow\\python\\framework\\dtypes.py:517: FutureWarning: Passing (type, 1) or '1type' as a synonym of type is deprecated; in a future version of numpy, it will be understood as (type, (1,)) / '(1,)type'.\n",
      "  _np_quint8 = np.dtype([(\"quint8\", np.uint8, 1)])\n",
      "C:\\ProgramData\\Anaconda3\\lib\\site-packages\\tensorflow\\python\\framework\\dtypes.py:518: FutureWarning: Passing (type, 1) or '1type' as a synonym of type is deprecated; in a future version of numpy, it will be understood as (type, (1,)) / '(1,)type'.\n",
      "  _np_qint16 = np.dtype([(\"qint16\", np.int16, 1)])\n",
      "C:\\ProgramData\\Anaconda3\\lib\\site-packages\\tensorflow\\python\\framework\\dtypes.py:519: FutureWarning: Passing (type, 1) or '1type' as a synonym of type is deprecated; in a future version of numpy, it will be understood as (type, (1,)) / '(1,)type'.\n",
      "  _np_quint16 = np.dtype([(\"quint16\", np.uint16, 1)])\n",
      "C:\\ProgramData\\Anaconda3\\lib\\site-packages\\tensorflow\\python\\framework\\dtypes.py:520: FutureWarning: Passing (type, 1) or '1type' as a synonym of type is deprecated; in a future version of numpy, it will be understood as (type, (1,)) / '(1,)type'.\n",
      "  _np_qint32 = np.dtype([(\"qint32\", np.int32, 1)])\n",
      "C:\\ProgramData\\Anaconda3\\lib\\site-packages\\tensorflow\\python\\framework\\dtypes.py:525: FutureWarning: Passing (type, 1) or '1type' as a synonym of type is deprecated; in a future version of numpy, it will be understood as (type, (1,)) / '(1,)type'.\n",
      "  np_resource = np.dtype([(\"resource\", np.ubyte, 1)])\n",
      "C:\\ProgramData\\Anaconda3\\lib\\site-packages\\tensorboard\\compat\\tensorflow_stub\\dtypes.py:541: FutureWarning: Passing (type, 1) or '1type' as a synonym of type is deprecated; in a future version of numpy, it will be understood as (type, (1,)) / '(1,)type'.\n",
      "  _np_qint8 = np.dtype([(\"qint8\", np.int8, 1)])\n",
      "C:\\ProgramData\\Anaconda3\\lib\\site-packages\\tensorboard\\compat\\tensorflow_stub\\dtypes.py:542: FutureWarning: Passing (type, 1) or '1type' as a synonym of type is deprecated; in a future version of numpy, it will be understood as (type, (1,)) / '(1,)type'.\n",
      "  _np_quint8 = np.dtype([(\"quint8\", np.uint8, 1)])\n",
      "C:\\ProgramData\\Anaconda3\\lib\\site-packages\\tensorboard\\compat\\tensorflow_stub\\dtypes.py:543: FutureWarning: Passing (type, 1) or '1type' as a synonym of type is deprecated; in a future version of numpy, it will be understood as (type, (1,)) / '(1,)type'.\n",
      "  _np_qint16 = np.dtype([(\"qint16\", np.int16, 1)])\n",
      "C:\\ProgramData\\Anaconda3\\lib\\site-packages\\tensorboard\\compat\\tensorflow_stub\\dtypes.py:544: FutureWarning: Passing (type, 1) or '1type' as a synonym of type is deprecated; in a future version of numpy, it will be understood as (type, (1,)) / '(1,)type'.\n",
      "  _np_quint16 = np.dtype([(\"quint16\", np.uint16, 1)])\n",
      "C:\\ProgramData\\Anaconda3\\lib\\site-packages\\tensorboard\\compat\\tensorflow_stub\\dtypes.py:545: FutureWarning: Passing (type, 1) or '1type' as a synonym of type is deprecated; in a future version of numpy, it will be understood as (type, (1,)) / '(1,)type'.\n",
      "  _np_qint32 = np.dtype([(\"qint32\", np.int32, 1)])\n",
      "C:\\ProgramData\\Anaconda3\\lib\\site-packages\\tensorboard\\compat\\tensorflow_stub\\dtypes.py:550: FutureWarning: Passing (type, 1) or '1type' as a synonym of type is deprecated; in a future version of numpy, it will be understood as (type, (1,)) / '(1,)type'.\n",
      "  np_resource = np.dtype([(\"resource\", np.ubyte, 1)])\n"
     ]
    }
   ],
   "source": [
    "from __future__ import print_function\n",
    "from keras.callbacks import LambdaCallback\n",
    "from keras.models import Sequential\n",
    "from keras.layers import Dense, Activation,Embedding\n",
    "from keras.layers import LSTM\n",
    "from keras.optimizers import RMSprop\n",
    "from keras.utils.data_utils import get_file\n",
    "import numpy as np\n",
    "import random\n",
    "import sys\n",
    "import io\n",
    "from numpy import array\n",
    "from numpy import argmax\n",
    "from keras.utils import to_categorical\n",
    "from keras.preprocessing.sequence import pad_sequences\n",
    "from keras.callbacks import ReduceLROnPlateau\n",
    "from keras.callbacks import ModelCheckpoint\n"
   ]
  },
  {
   "cell_type": "markdown",
   "metadata": {},
   "source": [
    "#### Data preparation :\n",
    "The data pre processing looks a lot like the one in the W2V part. However I did not delete the same regex and did not remove the punctuation."
   ]
  },
  {
   "cell_type": "code",
   "execution_count": 27,
   "metadata": {},
   "outputs": [
    {
     "name": "stdout",
     "output_type": "stream",
     "text": [
      "10 files treated. Time elapsed : 116 sec.\n",
      "20 files treated. Time elapsed : 138 sec.\n",
      "30 files treated. Time elapsed : 163 sec.\n",
      "40 files treated. Time elapsed : 195 sec.\n",
      "Finished in 216 sec.\n"
     ]
    }
   ],
   "source": [
    "import re\n",
    "import ftfy\n",
    "s = time.time()\n",
    "i = 1\n",
    "def repl(string):\n",
    "    \"\"\"Function to add space beween a specific pattern\"\"\"\n",
    "    return \" {} \".format(string.group())\n",
    "import unicodedata\n",
    "\n",
    "\n",
    "chat_data = pd.DataFrame(columns = [\"sender_name\",\"timestamp_ms\",\"content\"])\n",
    "for file in convs:\n",
    "    with open(os.path.join(path, file)) as f:\n",
    "        data = json.load(f)\n",
    "    a = data[\"messages\"]\n",
    "    \n",
    "    for elt in a:   \n",
    "        for key in elt.keys():\n",
    "            \n",
    "            if key == 'content':\n",
    "                elt[key] = re.sub(r'\\\\U000f[A-Za-z0-9]+',' ',elt[key],flags = re.MULTILINE)\n",
    "\n",
    "                #Removes https\\link\n",
    "                elt[key] = re.sub(r'^https?:\\/\\/.*[\\r\\n]*', '', elt[key], flags=re.MULTILINE)\n",
    "                #Removes http\\link\n",
    "                elt[key] = re.sub(r'http\\S+', '', elt[key], flags=re.MULTILINE)\n",
    "                #Removes www.link\n",
    "                elt[key] = re.sub(r'www.\\S+', '', elt[key], flags=re.MULTILINE)\n",
    "                #Removes word@word\n",
    "                elt[key] = re.sub(r'\\S+@\\S+', '', elt[key], flags=re.MULTILINE)\n",
    "                #Removes link.com\n",
    "                elt[key] = re.sub(r'\\S+\\.com', '', elt[key], flags=re.MULTILINE)\n",
    "                elt[key] = re.sub(r'[ ,.]', ' ', elt[key], flags=re.MULTILINE)\n",
    "                elt[key] = str(ftfy.fix_text(elt[key])).lower()\n",
    "                \n",
    "                #Removes smileys (like : :) :/ ;$$)\n",
    "                elt[key] = re.sub(r'(:|;)(\\)|\\(|\\$|/|3|\\@|\\'|s|p|o)+',' ',elt[key],flags = re.MULTILINE)\n",
    "                elt[key] = re.sub(r'(x)(\\)|\\(|\\$)+',' ',elt[key],flags = re.MULTILINE)\n",
    "                #Removes  apostropheses (ça s'arrange --> ça s arrange)\n",
    "                elt[key] = re.sub(r'\\'',' ',elt[key],flags = re.MULTILINE)\n",
    "                elt[key] = re.sub(r'\\\\n',' ',elt[key],flags = re.MULTILINE)\n",
    "                #Replaces hmmmmm by hmm\n",
    "                elt[key] = re.sub(r'(h)[m]{2,}','hmm',elt[key],flags = re.MULTILINE)\n",
    "                #Replaces \n",
    "                \n",
    "            \n",
    "                #Replaces hahahahaha by haha or hehehe by hehe \n",
    "                elt[key] = re.sub(r'[ah|ha]{3,}','haha',elt[key],flags = re.MULTILINE)\n",
    "                elt[key] = re.sub(r'[éh|hé]{3,}','hehe',elt[key],flags = re.MULTILINE)\n",
    "                elt[key] = re.sub(r'[eh|he]{3,}','eheh',elt[key],flags = re.MULTILINE)\n",
    "                elt[key] = re.sub(r' [ih|hi]{3,}','hihi',elt[key],flags = re.MULTILINE)\n",
    "                #Deletes []{}\\n\\t;\n",
    "                elt[key] = re.sub(r'(\\[|\\]|\\{|\\}|\\\\n|\\\\t|\\@|\\\\|\\#|\\=|\\<|\\>|\\_)',' ',elt[key],flags = re.MULTILINE)\n",
    "                elt[key] = re.sub(\"\\n\",' ',elt[key],flags = re.MULTILINE)\n",
    "                elt[key] = re.sub(\"\\t\",' ',elt[key],flags = re.MULTILINE)\n",
    "                elt[key] = re.sub(r'(\\^|\\*|\\_|\\/)','',elt[key],flags = re.MULTILINE)\n",
    "                \n",
    "                #Replace punctuation by the same character + spaces\n",
    "                pattern = re.compile(r'(\\.|\\?|\\!|\\(|\\))')\n",
    "                elt[key] = re.sub(pattern, repl, elt[key])\n",
    "                #DELETES EMOJI\n",
    "                #elt[key] = del_emoji(elt[key])\n",
    "\n",
    "                #Normalize the data\n",
    "                elt[key] = unicodedata.normalize('NFKD', elt[key]).encode('ascii','ignore').decode(\"utf-8\")\n",
    "                #Replace multiple spaces by one space\n",
    "                elt[key] = re.sub(r'\\s\\s+',' ',elt[key],flags = re.MULTILINE)\n",
    "                elt[key] = elt[key].rstrip().lstrip()\n",
    "                \n",
    "\n",
    "    #Store in a temporary dataframe\n",
    "    df = pd.DataFrame(a)\n",
    "    #Dropna\n",
    "    df = df.dropna(subset = ['content'])\n",
    "    #Removes calls, photos, stickers,gif,files,videos,audio files \n",
    "    df = df[df['type'] == \"Generic\"]\n",
    "    \n",
    "    # The messages are ordered to the last one from the first first one, we invert it\n",
    "    df = df.reindex(index=df.index[::-1]).reset_index()\n",
    "    \n",
    "    df = df[[\"sender_name\",\"timestamp_ms\",\"content\"]]\n",
    "    #Concatenates the messages\n",
    "    df =concat_message(df)\n",
    "\n",
    "    chat_data = pd.concat([chat_data,df],axis = 0,ignore_index=True)\n",
    "    if i % 10 == 0:\n",
    "        e = time.time()\n",
    "        print(str(i) + \" files treated. Time elapsed : \" + str(round(e - s)) + \" sec.\")\n",
    "    i +=1\n",
    "#chat_data.content = chat_data.content.astype(str).apply(lambda x: x.split())\n",
    "chat_data['sender_name'] = chat_data['sender_name'].astype(str).apply(fix_text)\n",
    "\n",
    "e = time.time()\n",
    "print('Finished in ' + str(round(e - s)) + \" sec.\")"
   ]
  },
  {
   "cell_type": "markdown",
   "metadata": {},
   "source": [
    "#### Character level data"
   ]
  },
  {
   "cell_type": "code",
   "execution_count": 28,
   "metadata": {},
   "outputs": [],
   "source": [
    "from keras.preprocessing.text import Tokenizer\n",
    "\n",
    "maxlen = 60\n",
    "#Keeping only my messages\n",
    "chat_data = chat_data[chat_data.sender_name == \"Loïc\"]\n",
    "#Create a lenght of sentence column\n",
    "chat_data['length'] = chat_data[\"content\"].astype(str).apply(lambda x: len([c for c in x]))\n",
    "#Deleting all the messages makes less than 4 chars\n",
    "chat_data = chat_data[chat_data.length > 4]\n",
    "#Creates the text as list of words\n",
    "chat_data[\"seq\"] = chat_data[\"content\"].astype(str).apply(lambda x: [c for c in x])\n",
    "\n",
    "tokenizer_chars = Tokenizer(filters='',char_level=True)\n",
    "#Transforms the text as a vocab index\n",
    "tokenizer_chars.fit_on_texts(chat_data[\"content\"])\n",
    "vocab_size = len(tokenizer_chars.word_counts)\n",
    "\n",
    "chat_data[\"tokens\"] = chat_data.content.apply(tokenizer_chars.texts_to_sequences)"
   ]
  },
  {
   "cell_type": "code",
   "execution_count": 29,
   "metadata": {},
   "outputs": [],
   "source": [
    "data_chars = pd.DataFrame(columns = ['X','y'])\n",
    "\n",
    "for i in chat_data.index:\n",
    "    X = []\n",
    "    y = []\n",
    "    if len(chat_data[\"tokens\"][i]) - maxlen <= 0:\n",
    "        X.append(np.array(chat_data[\"tokens\"][i][:-1]).ravel())\n",
    "        y.append(chat_data[\"tokens\"][i][-1])\n",
    "\n",
    "    for j in range(len(chat_data[\"tokens\"][i]) - maxlen):\n",
    "        X.append(np.array(chat_data[\"tokens\"][i][j:j + maxlen]).ravel())\n",
    "        y.append(chat_data[\"tokens\"][i][j + maxlen])\n",
    "    tmp = {'X':X,'y':y}\n",
    "    tmp = pd.DataFrame(tmp)\n",
    "    data_chars = pd.concat([data_chars,tmp])"
   ]
  },
  {
   "cell_type": "code",
   "execution_count": 30,
   "metadata": {},
   "outputs": [],
   "source": [
    "pickle.dump(data_chars,open('text_gen_data_chars.p','wb'))\n",
    "pickle.dump(tokenizer_chars,open('text_gen_token_chars.p','wb'))\n"
   ]
  },
  {
   "cell_type": "markdown",
   "metadata": {},
   "source": [
    "#### Word level data"
   ]
  },
  {
   "cell_type": "code",
   "execution_count": 31,
   "metadata": {},
   "outputs": [],
   "source": [
    "from keras.preprocessing.text import Tokenizer\n",
    "\n",
    "maxlen = 10\n",
    "#Keeping only my messages\n",
    "chat_data = chat_data[chat_data.sender_name == \"Loïc\"]\n",
    "#Create a lenght of sentence column\n",
    "chat_data['length'] = chat_data[\"content\"].astype(str).apply(lambda x: len(x.split(\" \")))\n",
    "#Deleting all the messages makes less than 2 words\n",
    "chat_data = chat_data[chat_data.length > 1]\n",
    "#Creates the text as list of words\n",
    "chat_data[\"seq\"] = chat_data[\"content\"].astype(str).apply(lambda x: x.split(\" \"))\n",
    "\n",
    "tokenizer_words = Tokenizer(filters='',char_level = False,oov_token=\"oov\")\n",
    "#Transforms the text as a vocab index\n",
    "tokenizer_words.fit_on_texts(chat_data[\"content\"])\n",
    "vocab_size = len(tokenizer_words.word_counts)\n",
    "\n",
    "chat_data[\"tokens\"] = tokenizer_words.texts_to_sequences(chat_data[\"content\"])"
   ]
  },
  {
   "cell_type": "code",
   "execution_count": 32,
   "metadata": {},
   "outputs": [],
   "source": [
    "data_words = pd.DataFrame(columns = ['X','y'])\n",
    "\n",
    "for i in chat_data.index:\n",
    "    X = []\n",
    "    y = []\n",
    "    if len(chat_data[\"tokens\"][i]) - maxlen <= 0:\n",
    "        try:\n",
    "            y.append(chat_data[\"tokens\"][i][-1])\n",
    "            X.append(np.array(chat_data[\"tokens\"][i][:-1]).ravel())\n",
    "        except:\n",
    "            pass\n",
    "\n",
    "    for j in range(len(chat_data[\"tokens\"][i]) - maxlen):\n",
    "        try:\n",
    "            y.append(chat_data[\"tokens\"][i][j + maxlen])\n",
    "            X.append(np.array(chat_data[\"tokens\"][i][j:j + maxlen]).ravel())\n",
    "        except:\n",
    "            pass\n",
    "        \n",
    "    tmp = {'X':X,'y':y}\n",
    "    tmp = pd.DataFrame(tmp)\n",
    "    data_words = pd.concat([data_words,tmp])"
   ]
  },
  {
   "cell_type": "code",
   "execution_count": 33,
   "metadata": {},
   "outputs": [],
   "source": [
    "pickle.dump(data_words,open('text_gen_data_words.p','wb'))\n",
    "pickle.dump(tokenizer_words,open('text_gen_token_words.p','wb'))\n"
   ]
  },
  {
   "cell_type": "markdown",
   "metadata": {},
   "source": [
    "#### Word level language model"
   ]
  },
  {
   "cell_type": "code",
   "execution_count": 92,
   "metadata": {},
   "outputs": [],
   "source": [
    "import pickle\n",
    "import pandas as pd\n",
    "from keras.callbacks import LambdaCallback\n",
    "from keras.models import Sequential\n",
    "from keras.layers import Dense, Activation,Embedding\n",
    "from keras.layers import LSTM\n",
    "from keras.optimizers import RMSprop\n",
    "from keras.utils.data_utils import get_file\n",
    "import numpy as np\n",
    "import random\n",
    "import sys\n",
    "import io\n",
    "from keras.preprocessing.text import Tokenizer\n",
    "from numpy import array\n",
    "from numpy import argmax\n",
    "from keras.utils import to_categorical\n",
    "from keras.preprocessing.sequence import pad_sequences\n",
    "\n",
    "\n",
    "data = pickle.load(open(\"text_gen_data_words.p\",\"rb\"))\n",
    "tokenizer = pickle.load(open(\"text_gen_token_words.p\",\"rb\"))\n",
    "\n",
    "indices_char = tokenizer.index_word\n",
    "char_indices = dict([(value,key) for key,value in tokenizer.index_word.items()])\n",
    "maxlen = 10\n",
    "vocab_size = len(indices_char)"
   ]
  },
  {
   "cell_type": "code",
   "execution_count": 93,
   "metadata": {},
   "outputs": [],
   "source": [
    "from numpy import array\n",
    "from numpy import argmax\n",
    "from keras.utils import to_categorical\n",
    "from keras.preprocessing.sequence import pad_sequences\n",
    "X = pad_sequences(data['X'], maxlen=maxlen, padding='pre')\n",
    "#y = pad_sequences(data['y'], maxlen=1, padding='post')\n",
    "#X = to_categorical(X)\n",
    "y = to_categorical(data['y'],num_classes=vocab_size+1)"
   ]
  },
  {
   "cell_type": "code",
   "execution_count": 94,
   "metadata": {},
   "outputs": [],
   "source": [
    "def create_model(vocab_size, seq_len):\n",
    "\n",
    "    model = Sequential()\n",
    "    #Embedding layer\n",
    "    model.add(Embedding(vocab_size+1, 8, input_length=seq_len))\n",
    "    #Two reccurents lstm layers\n",
    "    model.add(LSTM(units=2**6, return_sequences=True))\n",
    "\n",
    "    model.add(LSTM(units=2**7))\n",
    "\n",
    "    #Denese layers to break some linearities\n",
    "    model.add(Dense(units=2**7, activation='relu'))\n",
    "\n",
    "    #Softmax overall the letters\n",
    "    model.add(Dense(units=vocab_size+1, activation='softmax'))\n",
    "\n",
    "    model.compile(loss='categorical_crossentropy', \n",
    "                optimizer='adam', \n",
    "                metrics=['accuracy'])\n",
    "\n",
    "    model.summary()\n",
    "\n",
    "    return model\n",
    "def sample(preds, temperature=1.0):\n",
    "    # helper function to sample an index from a probability array\n",
    "    preds = np.asarray(preds).astype('float64')\n",
    "    preds = np.log(preds) / temperature\n",
    "    exp_preds = np.exp(preds)\n",
    "    preds = exp_preds / np.sum(exp_preds)\n",
    "    probas = np.random.multinomial(1, preds, 1)\n",
    "    return np.argmax(probas)\n",
    "\n",
    "from keras.callbacks import LambdaCallback\n",
    "\n",
    "def on_epoch_end(epoch, logs):\n",
    "    # Function invoked at end of each epoch. Prints generated text.\n",
    "    print()\n",
    "    print('----- Generating text after Epoch: %d' % epoch)\n",
    "\n",
    "    choice = np.random.randint(0,X.shape[0])\n",
    "    for diversity in [0.2, 0.5, 1.0, 1.2]:\n",
    "        print('----- diversity:', diversity)\n",
    "\n",
    "        generated = ''\n",
    "        sentence = X[choice]\n",
    "        sentence= tokenizer.sequences_to_texts(X[choice:choice+1])[0]\n",
    "        generated += sentence\n",
    "        print('----- Generating with seed: \"' + sentence + '\"')\n",
    "        sys.stdout.write(generated)\n",
    "\n",
    "        for i in range(10):\n",
    "            x_pred = np.array(tokenizer.texts_to_sequences(sentence.split(\" \"))).ravel()\n",
    "            preds = model.predict(np.array([x_pred]), verbose=0)[0]\n",
    "            next_index = sample(preds, diversity)\n",
    "            next_word = tokenizer.sequences_to_texts(np.array([next_index]).reshape(1,1))[0]\n",
    "\n",
    "            generated +=\" \" + next_word\n",
    "            sentence =  \" \".join(sentence.split(\" \")[1:]) + \" \"  + next_word\n",
    "\n",
    "            sys.stdout.write(\" \" + next_word)\n",
    "            sys.stdout.flush()\n",
    "    print()\n",
    "print_callback = LambdaCallback(on_epoch_end=on_epoch_end)\n",
    "\n",
    "def generate_text(sentence,length, diversity):\n",
    "    \"\"\"Generates thanks to a starting sentence the next words\"\"\"\n",
    "    tmp = sentence\n",
    "    generated = ''\n",
    "    for i in range(length):\n",
    "        x_pred = pad_sequences([np.array(tokenizer.texts_to_sequences(sentence.split(\" \"))).ravel()],\n",
    "                          maxlen =maxlen)[0]\n",
    "        preds = model.predict(np.array([x_pred]), verbose=0)[0]\n",
    "        next_index = sample(preds, diversity)\n",
    "        next_word = tokenizer.sequences_to_texts(np.array([next_index]).reshape(1,1))[0]\n",
    "\n",
    "        generated +=\" \" + next_word\n",
    "        sentence =  \" \".join(tokenizer.sequences_to_texts([x_pred])[0].split(\" \")[1:]) + \" \"  + next_word\n",
    "    return tmp + \" \" + generated"
   ]
  },
  {
   "cell_type": "code",
   "execution_count": 95,
   "metadata": {},
   "outputs": [
    {
     "name": "stdout",
     "output_type": "stream",
     "text": [
      "Model: \"sequential_11\"\n",
      "_________________________________________________________________\n",
      "Layer (type)                 Output Shape              Param #   \n",
      "=================================================================\n",
      "embedding_11 (Embedding)     (None, 10, 8)             182080    \n",
      "_________________________________________________________________\n",
      "lstm_21 (LSTM)               (None, 10, 64)            18688     \n",
      "_________________________________________________________________\n",
      "lstm_22 (LSTM)               (None, 128)               98816     \n",
      "_________________________________________________________________\n",
      "dense_21 (Dense)             (None, 128)               16512     \n",
      "_________________________________________________________________\n",
      "dense_22 (Dense)             (None, 22760)             2936040   \n",
      "=================================================================\n",
      "Total params: 3,252,136\n",
      "Trainable params: 3,252,136\n",
      "Non-trainable params: 0\n",
      "_________________________________________________________________\n"
     ]
    }
   ],
   "source": [
    "from keras.callbacks import ModelCheckpoint\n",
    "\n",
    "filepath = \"weights.hdf5\"\n",
    "checkpoint = ModelCheckpoint(filepath, monitor='loss',\n",
    "                             verbose=1, save_best_only=True,\n",
    "                             mode='min')\n",
    "\n",
    "from keras.callbacks import ReduceLROnPlateau\n",
    "reduce_lr = ReduceLROnPlateau(monitor='loss', factor=0.2,\n",
    "                              patience=1, min_lr=0.001)\n",
    "callbacks = [print_callback, checkpoint, reduce_lr]\n",
    "model =create_model(vocab_size,maxlen)\n",
    "#model.fit(X, y, batch_size=3000, epochs=100, callbacks=callbacks)\n"
   ]
  },
  {
   "cell_type": "markdown",
   "metadata": {},
   "source": [
    "#### Word level language model\n"
   ]
  },
  {
   "cell_type": "code",
   "execution_count": 96,
   "metadata": {},
   "outputs": [],
   "source": [
    "import pickle\n",
    "import pandas as pd\n",
    "from keras.callbacks import LambdaCallback\n",
    "from keras.models import Sequential\n",
    "from keras.layers import Dense, Activation,Embedding\n",
    "from keras.layers import LSTM\n",
    "from keras.optimizers import RMSprop\n",
    "from keras.utils.data_utils import get_file\n",
    "import numpy as np\n",
    "import random\n",
    "import sys\n",
    "import io\n",
    "from keras.preprocessing.text import Tokenizer\n",
    "from numpy import array\n",
    "from numpy import argmax\n",
    "from keras.utils import to_categorical\n",
    "from keras.preprocessing.sequence import pad_sequences\n",
    "\n",
    "\n",
    "data = pickle.load(open(\"text_gen_data_chars.p\",\"rb\"))\n",
    "tokenizer = pickle.load(open(\"text_gen_token_chars.p\",\"rb\"))\n",
    "\n",
    "indices_char = tokenizer.index_word\n",
    "char_indices = dict([(value,key) for key,value in tokenizer.index_word.items()])\n",
    "maxlen = 60\n",
    "vocab_size = len(indices_char)"
   ]
  },
  {
   "cell_type": "code",
   "execution_count": 97,
   "metadata": {},
   "outputs": [],
   "source": [
    "from numpy import array\n",
    "from numpy import argmax\n",
    "from keras.utils import to_categorical\n",
    "from keras.preprocessing.sequence import pad_sequences\n",
    "X = pad_sequences(data['X'], maxlen=maxlen, padding='pre')\n",
    "y = pad_sequences(data['y'], maxlen=1, padding='post')\n",
    "#X = to_categorical(X)\n",
    "y = to_categorical(y,num_classes=vocab_size+1)"
   ]
  },
  {
   "cell_type": "code",
   "execution_count": 98,
   "metadata": {},
   "outputs": [],
   "source": [
    "def create_model(vocab_size, seq_len):\n",
    "\n",
    "    model = Sequential()\n",
    "    #Embedding layer\n",
    "    model.add(Embedding(vocab_size+1, 8, input_length=seq_len))\n",
    "    #Two reccurents lstm layers\n",
    "    model.add(LSTM(units=2**6, return_sequences=True))\n",
    "\n",
    "    model.add(LSTM(units=2**7))\n",
    "\n",
    "    #Dense layers to break some linearities\n",
    "    model.add(Dense(units=2**7, activation='relu'))\n",
    "\n",
    "    #Softmax overall the letters\n",
    "    model.add(Dense(units=vocab_size+1, activation='softmax'))\n",
    "\n",
    "    model.compile(loss='categorical_crossentropy', \n",
    "            optimizer='adam', \n",
    "            metrics=['accuracy'])\n",
    "\n",
    "    model.summary()\n",
    "\n",
    "    return model\n",
    "def sample(preds, temperature=1.0):\n",
    "    # helper function to sample an index from a probability array\n",
    "    preds = np.asarray(preds).astype('float64')\n",
    "    preds = np.log(preds) / temperature\n",
    "    exp_preds = np.exp(preds)\n",
    "    preds = exp_preds / np.sum(exp_preds)\n",
    "    probas = np.random.multinomial(1, preds, 1)\n",
    "    return np.argmax(probas)\n",
    "\n",
    "from keras.callbacks import LambdaCallback\n",
    "\n",
    "def on_epoch_end(epoch, logs):\n",
    "    # Function invoked at end of each epoch. Prints generated text.\n",
    "    print()\n",
    "    print('----- Generating text after Epoch: %d' % epoch)\n",
    "\n",
    "    choice = np.random.randint(0,X.shape[0])\n",
    "    for diversity in [0.2, 0.5, 1.0, 1.2]:\n",
    "        print('----- diversity:', diversity)\n",
    "\n",
    "        generated = ''\n",
    "        sentence = X[choice]\n",
    "        sentence= ''.join([indices_char[i] for i in sentence if i in indices_char.keys() ])\n",
    "        generated += sentence\n",
    "        print('----- Generating with seed: \"' + sentence + '\"')\n",
    "        sys.stdout.write(generated)\n",
    "\n",
    "        for i in range(400):\n",
    "            x_pred = np.zeros((1, maxlen))\n",
    "            for t, char in enumerate(sentence):\n",
    "                x_pred[0, t] = char_indices[char]\n",
    "\n",
    "            preds = model.predict(x_pred, verbose=0)[0]\n",
    "            next_index = sample(preds, diversity)\n",
    "            try:\n",
    "                next_char = indices_char[next_index]\n",
    "            except:\n",
    "                next_char = \"\"\n",
    "\n",
    "            generated += next_char\n",
    "            sentence = sentence[1:] + next_char\n",
    "            sys.stdout.write(next_char)\n",
    "        sys.stdout.flush()\n",
    "    print()\n",
    "print_callback = LambdaCallback(on_epoch_end=on_epoch_end)"
   ]
  },
  {
   "cell_type": "code",
   "execution_count": 99,
   "metadata": {},
   "outputs": [
    {
     "name": "stdout",
     "output_type": "stream",
     "text": [
      "Model: \"sequential_12\"\n",
      "_________________________________________________________________\n",
      "Layer (type)                 Output Shape              Param #   \n",
      "=================================================================\n",
      "embedding_12 (Embedding)     (None, 60, 8)             416       \n",
      "_________________________________________________________________\n",
      "lstm_23 (LSTM)               (None, 60, 64)            18688     \n",
      "_________________________________________________________________\n",
      "lstm_24 (LSTM)               (None, 128)               98816     \n",
      "_________________________________________________________________\n",
      "dense_23 (Dense)             (None, 128)               16512     \n",
      "_________________________________________________________________\n",
      "dense_24 (Dense)             (None, 52)                6708      \n",
      "=================================================================\n",
      "Total params: 141,140\n",
      "Trainable params: 141,140\n",
      "Non-trainable params: 0\n",
      "_________________________________________________________________\n"
     ]
    }
   ],
   "source": [
    "from keras.callbacks import ModelCheckpoint\n",
    "model = create_model(vocab_size, maxlen)\n",
    "filepath = \"weights.hdf5\"\n",
    "checkpoint = ModelCheckpoint(filepath, monitor='loss',\n",
    "                             verbose=1, save_best_only=True,\n",
    "                             mode='min')\n",
    "\n",
    "from keras.callbacks import ReduceLROnPlateau\n",
    "reduce_lr = ReduceLROnPlateau(monitor='loss', factor=0.2,\n",
    "                              patience=1, min_lr=0.001)\n",
    "callbacks = [print_callback, checkpoint, reduce_lr]\n",
    "\n",
    "#model.fit(X, y, batch_size=3000, epochs=1, callbacks=callbacks)\n"
   ]
  }
 ],
 "metadata": {
  "kernelspec": {
   "display_name": "Python 3",
   "language": "python",
   "name": "python3"
  },
  "language_info": {
   "codemirror_mode": {
    "name": "ipython",
    "version": 3
   },
   "file_extension": ".py",
   "mimetype": "text/x-python",
   "name": "python",
   "nbconvert_exporter": "python",
   "pygments_lexer": "ipython3",
   "version": "3.7.6"
  }
 },
 "nbformat": 4,
 "nbformat_minor": 4
}
